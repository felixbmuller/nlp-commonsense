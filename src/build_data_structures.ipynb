{
 "cells": [
  {
   "cell_type": "code",
   "execution_count": 36,
   "metadata": {},
   "outputs": [
    {
     "name": "stdout",
     "output_type": "stream",
     "text": [
      "The autoreload extension is already loaded. To reload it, use:\n",
      "  %reload_ext autoreload\n"
     ]
    }
   ],
   "source": [
    "%load_ext autoreload\n",
    "%autoreload 2\n",
    "\n",
    "from process_examples import load_examples, extract_terms_from_example\n",
    "from utils import load_conceptnet, normalize_conceptnet, normalize_input\n",
    "from find_shortest_path import find_word_path, render_path_verbose, search_shortest_path"
   ]
  },
  {
   "cell_type": "code",
   "execution_count": 4,
   "metadata": {},
   "outputs": [],
   "source": [
    "examples = load_examples()\n",
    "conceptnet = load_conceptnet()"
   ]
  },
  {
   "cell_type": "code",
   "execution_count": 5,
   "metadata": {},
   "outputs": [
    {
     "data": {
      "text/plain": [
       "({'a drawstring bag',\n",
       "  'bag',\n",
       "  'baggage',\n",
       "  'checked',\n",
       "  'drawstring',\n",
       "  'heading',\n",
       "  'the only baggage',\n",
       "  'the woman',\n",
       "  'wa',\n",
       "  'woman'},\n",
       " {'airport',\n",
       "  'garbage',\n",
       "  'jewelry',\n",
       "  'jewelry store',\n",
       "  'military',\n",
       "  'safe',\n",
       "  'store'})"
      ]
     },
     "execution_count": 5,
     "metadata": {},
     "output_type": "execute_result"
    }
   ],
   "source": [
    "extract_terms_from_example(examples[0])"
   ]
  },
  {
   "cell_type": "code",
   "execution_count": null,
   "metadata": {},
   "outputs": [],
   "source": []
  },
  {
   "cell_type": "code",
   "execution_count": 6,
   "metadata": {},
   "outputs": [
    {
     "data": {
      "text/plain": [
       "['airport',\n",
       " 'airport',\n",
       " 'airport',\n",
       " 'airport',\n",
       " 'airport',\n",
       " 'airport apron',\n",
       " 'airport area',\n",
       " 'airport baggage area',\n",
       " 'airport baggage carousel',\n",
       " 'airport book',\n",
       " 'airport book',\n",
       " 'airport books',\n",
       " 'airport carousel',\n",
       " 'airport control',\n",
       " 'airport control tower',\n",
       " 'airport customs deputy manager',\n",
       " 'airport decontamination pad',\n",
       " 'airport fiction',\n",
       " 'airport lounge',\n",
       " 'airport lounge',\n",
       " 'airport lounges',\n",
       " 'airport novel',\n",
       " 'airport novels',\n",
       " 'airport store',\n",
       " 'airport terminal',\n",
       " 'airport terminal',\n",
       " 'airport terminal',\n",
       " 'airport too',\n",
       " 'airport worker',\n",
       " 'airportable',\n",
       " 'airportable',\n",
       " 'airporter',\n",
       " 'airporter',\n",
       " 'airporters',\n",
       " 'airportless',\n",
       " 'airportless',\n",
       " 'airportlike',\n",
       " 'airportlike',\n",
       " 'airport',\n",
       " 'airport',\n",
       " 'antiairport',\n",
       " 'antiairport',\n",
       " 'area of airport',\n",
       " 'arrive at airport',\n",
       " 'arrive at airports',\n",
       " 'at airport',\n",
       " 'carry luggage across airport',\n",
       " 'checking in at airport',\n",
       " 'circle airport',\n",
       " 'circle airport before landing',\n",
       " 'circle around airport',\n",
       " 'commercial airport',\n",
       " 'counter in airport',\n",
       " 'counter in airport terminal',\n",
       " 'domestic airport',\n",
       " 'elevation of airport',\n",
       " 'found at airport',\n",
       " 'found at airport or hotel',\n",
       " 'found at airports',\n",
       " 'found at airports and train stations',\n",
       " 'found in airport',\n",
       " 'get aaround airport',\n",
       " 'go to airport',\n",
       " 'have to wait in airports',\n",
       " 'how do i get to airport',\n",
       " 'illegal to have in airports',\n",
       " 'international airport',\n",
       " 'international airport',\n",
       " 'international airports',\n",
       " 'kennedy international airport',\n",
       " 'land airport',\n",
       " 'land at airport',\n",
       " 'large airport',\n",
       " 'located at airport',\n",
       " 'lugging around airports',\n",
       " 'managing airspace around airport',\n",
       " 'multiairport',\n",
       " 'multiairport',\n",
       " 'near airport',\n",
       " 'near airports',\n",
       " 'nonairport',\n",
       " 'nonairport',\n",
       " 'parts of airports',\n",
       " 'shut down airport',\n",
       " 'stranded at airport',\n",
       " 'stranded when airport shuts down',\n",
       " 'strike at airports',\n",
       " 'transporting luggage in airport',\n",
       " 'travel to airport',\n",
       " 'walk to airport',\n",
       " 'x ray machines at airports']"
      ]
     },
     "execution_count": 6,
     "metadata": {},
     "output_type": "execute_result"
    }
   ],
   "source": [
    "[v for v in conceptnet.nodes_idx2name if \"airport\" in v]"
   ]
  },
  {
   "cell_type": "code",
   "execution_count": 9,
   "metadata": {},
   "outputs": [],
   "source": [
    "# TODO fix problem with multiple nodes, same name! -> its fine, lookup always accesses the base form because of sorting"
   ]
  },
  {
   "cell_type": "code",
   "execution_count": 10,
   "metadata": {},
   "outputs": [
    {
     "data": {
      "text/plain": [
       "121612"
      ]
     },
     "execution_count": 10,
     "metadata": {},
     "output_type": "execute_result"
    }
   ],
   "source": [
    "conceptnet.nodes_name2idx[\"baggage\"]"
   ]
  },
  {
   "cell_type": "code",
   "execution_count": 30,
   "metadata": {},
   "outputs": [
    {
     "data": {
      "text/plain": [
       "[]"
      ]
     },
     "execution_count": 30,
     "metadata": {},
     "output_type": "execute_result"
    }
   ],
   "source": [
    "find_word_path(\"safe\", \"baggage\", conceptnet)"
   ]
  },
  {
   "cell_type": "code",
   "execution_count": null,
   "metadata": {},
   "outputs": [],
   "source": [
    "find_word_path(\"safe\", \"baggage\", conceptnet, max_path_len=4) # example for a hit, but runs too long and not very meaningful"
   ]
  },
  {
   "cell_type": "code",
   "execution_count": 16,
   "metadata": {},
   "outputs": [
    {
     "data": {
      "text/plain": [
       "(['safe (1373871)', 'heavy (701457)', 'carry (244824)', 'baggage (121612)'],\n",
       " ['/r/RelatedTo (idx 32, weight 0.136 )',\n",
       "  '/r/RelatedTo (idx 32, weight 0.156 , reversed)',\n",
       "  '/r/Antonym (idx 0, weight 0.119 )'])"
      ]
     },
     "execution_count": 16,
     "metadata": {},
     "output_type": "execute_result"
    }
   ],
   "source": [
    "render_path_simple(_15, conceptnet)"
   ]
  },
  {
   "cell_type": "code",
   "execution_count": 14,
   "metadata": {},
   "outputs": [
    {
     "data": {
      "text/plain": [
       "(['airport (35496)', 'baggage (121612)'],\n",
       " ['/r/AtLocation (idx 1, weight 3.464 , reversed),/r/AtLocation (idx 1, weight 2.828 , reversed)'])"
      ]
     },
     "execution_count": 14,
     "metadata": {},
     "output_type": "execute_result"
    }
   ],
   "source": [
    "render_path_simple(_13, conceptnet)"
   ]
  },
  {
   "cell_type": "code",
   "execution_count": 17,
   "metadata": {},
   "outputs": [
    {
     "data": {
      "text/plain": [
       "[35496, 704058]"
      ]
     },
     "execution_count": 17,
     "metadata": {},
     "output_type": "execute_result"
    }
   ],
   "source": [
    "find_word_path(\"airport\", \"heliport\", conceptnet, max_path_len=3)"
   ]
  },
  {
   "cell_type": "code",
   "execution_count": 19,
   "metadata": {},
   "outputs": [
    {
     "data": {
      "text/plain": [
       "(['airport (35496)', 'heliport (704058)'],\n",
       " ['/r/EtymologicallyRelatedTo (idx 12, weight 0.25 , reversed),/r/IsA (idx 22, weight 2.0 , reversed),/r/RelatedTo (idx 32, weight 1.0 , reversed)'])"
      ]
     },
     "execution_count": 19,
     "metadata": {},
     "output_type": "execute_result"
    }
   ],
   "source": [
    "render_path_simple(_17, conceptnet)"
   ]
  },
  {
   "cell_type": "code",
   "execution_count": 21,
   "metadata": {},
   "outputs": [],
   "source": [
    "import pandas as pd"
   ]
  },
  {
   "cell_type": "code",
   "execution_count": 22,
   "metadata": {},
   "outputs": [],
   "source": [
    "df = pd.read_csv(\"../data/processed/en_edges.csv\")"
   ]
  },
  {
   "cell_type": "code",
   "execution_count": 27,
   "metadata": {},
   "outputs": [
    {
     "data": {
      "text/plain": [
       "['', 'c', 'en', '0', 'n']"
      ]
     },
     "execution_count": 27,
     "metadata": {},
     "output_type": "execute_result"
    }
   ],
   "source": [
    "\"/c/en/0/n\".split(\"/\")"
   ]
  },
  {
   "cell_type": "code",
   "execution_count": 26,
   "metadata": {},
   "outputs": [
    {
     "data": {
      "text/html": [
       "<div>\n",
       "<style scoped>\n",
       "    .dataframe tbody tr th:only-of-type {\n",
       "        vertical-align: middle;\n",
       "    }\n",
       "\n",
       "    .dataframe tbody tr th {\n",
       "        vertical-align: top;\n",
       "    }\n",
       "\n",
       "    .dataframe thead th {\n",
       "        text-align: right;\n",
       "    }\n",
       "</style>\n",
       "<table border=\"1\" class=\"dataframe\">\n",
       "  <thead>\n",
       "    <tr style=\"text-align: right;\">\n",
       "      <th></th>\n",
       "      <th>Unnamed: 0</th>\n",
       "      <th>uri</th>\n",
       "      <th>label</th>\n",
       "      <th>start</th>\n",
       "      <th>end</th>\n",
       "      <th>info</th>\n",
       "    </tr>\n",
       "  </thead>\n",
       "  <tbody>\n",
       "    <tr>\n",
       "      <th>0</th>\n",
       "      <td>0</td>\n",
       "      <td>/a/[/r/Antonym/,/c/en/0/n/,/c/en/1/]</td>\n",
       "      <td>/r/Antonym</td>\n",
       "      <td>/c/en/0/n</td>\n",
       "      <td>/c/en/1</td>\n",
       "      <td>{\"dataset\": \"/d/wiktionary/fr\", \"license\": \"cc...</td>\n",
       "    </tr>\n",
       "    <tr>\n",
       "      <th>1</th>\n",
       "      <td>1</td>\n",
       "      <td>/a/[/r/Antonym/,/c/en/12_hour_clock/n/,/c/en/2...</td>\n",
       "      <td>/r/Antonym</td>\n",
       "      <td>/c/en/12_hour_clock/n</td>\n",
       "      <td>/c/en/24_hour_clock</td>\n",
       "      <td>{\"dataset\": \"/d/wiktionary/en\", \"license\": \"cc...</td>\n",
       "    </tr>\n",
       "    <tr>\n",
       "      <th>2</th>\n",
       "      <td>2</td>\n",
       "      <td>/a/[/r/Antonym/,/c/en/24_hour_clock/n/,/c/en/1...</td>\n",
       "      <td>/r/Antonym</td>\n",
       "      <td>/c/en/24_hour_clock/n</td>\n",
       "      <td>/c/en/12_hour_clock</td>\n",
       "      <td>{\"dataset\": \"/d/wiktionary/en\", \"license\": \"cc...</td>\n",
       "    </tr>\n",
       "    <tr>\n",
       "      <th>3</th>\n",
       "      <td>3</td>\n",
       "      <td>/a/[/r/Antonym/,/c/en/5/n/,/c/en/3/]</td>\n",
       "      <td>/r/Antonym</td>\n",
       "      <td>/c/en/5/n</td>\n",
       "      <td>/c/en/3</td>\n",
       "      <td>{\"dataset\": \"/d/wiktionary/en\", \"license\": \"cc...</td>\n",
       "    </tr>\n",
       "    <tr>\n",
       "      <th>4</th>\n",
       "      <td>4</td>\n",
       "      <td>/a/[/r/Antonym/,/c/en/a.c/n/,/c/en/d.c/]</td>\n",
       "      <td>/r/Antonym</td>\n",
       "      <td>/c/en/a.c/n</td>\n",
       "      <td>/c/en/d.c</td>\n",
       "      <td>{\"dataset\": \"/d/wiktionary/fr\", \"license\": \"cc...</td>\n",
       "    </tr>\n",
       "  </tbody>\n",
       "</table>\n",
       "</div>"
      ],
      "text/plain": [
       "   Unnamed: 0                                                uri       label  \\\n",
       "0           0               /a/[/r/Antonym/,/c/en/0/n/,/c/en/1/]  /r/Antonym   \n",
       "1           1  /a/[/r/Antonym/,/c/en/12_hour_clock/n/,/c/en/2...  /r/Antonym   \n",
       "2           2  /a/[/r/Antonym/,/c/en/24_hour_clock/n/,/c/en/1...  /r/Antonym   \n",
       "3           3               /a/[/r/Antonym/,/c/en/5/n/,/c/en/3/]  /r/Antonym   \n",
       "4           4           /a/[/r/Antonym/,/c/en/a.c/n/,/c/en/d.c/]  /r/Antonym   \n",
       "\n",
       "                   start                  end  \\\n",
       "0              /c/en/0/n              /c/en/1   \n",
       "1  /c/en/12_hour_clock/n  /c/en/24_hour_clock   \n",
       "2  /c/en/24_hour_clock/n  /c/en/12_hour_clock   \n",
       "3              /c/en/5/n              /c/en/3   \n",
       "4            /c/en/a.c/n            /c/en/d.c   \n",
       "\n",
       "                                                info  \n",
       "0  {\"dataset\": \"/d/wiktionary/fr\", \"license\": \"cc...  \n",
       "1  {\"dataset\": \"/d/wiktionary/en\", \"license\": \"cc...  \n",
       "2  {\"dataset\": \"/d/wiktionary/en\", \"license\": \"cc...  \n",
       "3  {\"dataset\": \"/d/wiktionary/en\", \"license\": \"cc...  \n",
       "4  {\"dataset\": \"/d/wiktionary/fr\", \"license\": \"cc...  "
      ]
     },
     "execution_count": 26,
     "metadata": {},
     "output_type": "execute_result"
    }
   ],
   "source": [
    "df.head()"
   ]
  },
  {
   "cell_type": "code",
   "execution_count": 28,
   "metadata": {},
   "outputs": [
    {
     "data": {
      "text/plain": [
       "{'a', 'n', 'r', 'v'}"
      ]
     },
     "execution_count": 28,
     "metadata": {},
     "output_type": "execute_result"
    }
   ],
   "source": [
    "set(parts[-1] for name in df.start.unique() if len(parts := name.split(\"/\")) == 5)"
   ]
  },
  {
   "cell_type": "markdown",
   "metadata": {},
   "source": [
    "## step 2"
   ]
  },
  {
   "cell_type": "code",
   "execution_count": 37,
   "metadata": {},
   "outputs": [
    {
     "data": {
      "text/plain": [
       "['airport (35496)',\n",
       " '/r/AtLocation (idx 1, weight 3.464, reversed),/r/AtLocation (idx 1, weight 2.828, reversed)',\n",
       " 'baggage (121612)']"
      ]
     },
     "execution_count": 37,
     "metadata": {},
     "output_type": "execute_result"
    }
   ],
   "source": [
    "find_word_path(\"airport\", \"baggage\", conceptnet, renderer=render_path_verbose)"
   ]
  },
  {
   "cell_type": "code",
   "execution_count": 34,
   "metadata": {},
   "outputs": [
    {
     "data": {
      "text/plain": [
       "'airport <--AtLocation-- baggage'"
      ]
     },
     "execution_count": 34,
     "metadata": {},
     "output_type": "execute_result"
    }
   ],
   "source": [
    "find_word_path(\"airport\", \"baggage\", conceptnet)"
   ]
  },
  {
   "cell_type": "code",
   "execution_count": 58,
   "metadata": {},
   "outputs": [
    {
     "data": {
      "text/plain": [
       "'checked --HasContext--> north america --HasContext--> canada <--HasContext-- garbage'"
      ]
     },
     "execution_count": 58,
     "metadata": {},
     "output_type": "execute_result"
    }
   ],
   "source": [
    "find_word_path(\"checked\", \"garbage\", conceptnet, max_path_len=4)"
   ]
  },
  {
   "cell_type": "code",
   "execution_count": 59,
   "metadata": {},
   "outputs": [
    {
     "data": {
      "text/plain": [
       "'safe --RelatedTo--> heavy <--RelatedTo-- carry --Antonym--> baggage'"
      ]
     },
     "execution_count": 59,
     "metadata": {},
     "output_type": "execute_result"
    }
   ],
   "source": [
    "find_word_path(\"safe\", \"baggage\", conceptnet, max_path_len=4)"
   ]
  },
  {
   "cell_type": "code",
   "execution_count": 63,
   "metadata": {},
   "outputs": [
    {
     "data": {
      "text/plain": [
       "'punish --MotivatedByGoal--> mean <--RelatedTo-- away'"
      ]
     },
     "execution_count": 63,
     "metadata": {},
     "output_type": "execute_result"
    }
   ],
   "source": [
    "find_word_path(\"punish\", \"away\", conceptnet, max_path_len=4)"
   ]
  },
  {
   "cell_type": "code",
   "execution_count": 64,
   "metadata": {},
   "outputs": [
    {
     "data": {
      "text/plain": [
       "'excited <--HasSubevent-- score home run --HasPrerequisite--> play baseball --HasPrerequisite--> apply'"
      ]
     },
     "execution_count": 64,
     "metadata": {},
     "output_type": "execute_result"
    }
   ],
   "source": [
    "find_word_path(\"excited\", \"apply\", conceptnet, max_path_len=4)"
   ]
  },
  {
   "cell_type": "code",
   "execution_count": 65,
   "metadata": {},
   "outputs": [
    {
     "data": {
      "text/plain": [
       "'harvard --IsA--> college --HasContext--> canada <--HasContext-- letter'"
      ]
     },
     "execution_count": 65,
     "metadata": {},
     "output_type": "execute_result"
    }
   ],
   "source": [
    "find_word_path(\"harvard\", \"letter\", conceptnet, max_path_len=4)"
   ]
  },
  {
   "cell_type": "markdown",
   "metadata": {},
   "source": [
    "### Run all examples"
   ]
  },
  {
   "cell_type": "code",
   "execution_count": 38,
   "metadata": {},
   "outputs": [],
   "source": [
    "from tqdm import tqdm"
   ]
  },
  {
   "cell_type": "code",
   "execution_count": 54,
   "metadata": {},
   "outputs": [
    {
     "name": "stderr",
     "output_type": "stream",
     "text": [
      "  0%|          | 0/10 [00:00<?, ?it/s]WARNING:root:start_term='only baggage' not in graph, skipping\n",
      "WARNING:root:start_term='only baggage' not in graph, skipping\n",
      "WARNING:root:start_term='only baggage' not in graph, skipping\n",
      "WARNING:root:start_term='only baggage' not in graph, skipping\n",
      "WARNING:root:start_term='only baggage' not in graph, skipping\n",
      "WARNING:root:start_term='only baggage' not in graph, skipping\n",
      "WARNING:root:start_term='only baggage' not in graph, skipping\n",
      " 20%|██        | 2/10 [01:00<03:53, 29.22s/it]WARNING:root:end_term='his enemy' not in graph, skipping\n",
      "WARNING:root:end_term='his enemy' not in graph, skipping\n",
      "WARNING:root:end_term='his enemy' not in graph, skipping\n",
      "WARNING:root:end_term='his enemy' not in graph, skipping\n",
      "WARNING:root:end_term='his enemy' not in graph, skipping\n",
      "WARNING:root:end_term='his enemy' not in graph, skipping\n",
      "WARNING:root:end_term='his enemy' not in graph, skipping\n",
      "WARNING:root:start_term='his enemy' not in graph, skipping\n",
      "WARNING:root:start_term='his enemy' not in graph, skipping\n",
      "WARNING:root:start_term='his enemy' not in graph, skipping\n",
      "WARNING:root:start_term='his enemy' not in graph, skipping\n",
      "WARNING:root:start_term='his enemy' not in graph, skipping\n",
      " 30%|███       | 3/10 [01:22<03:01, 25.86s/it]WARNING:root:start_term='his house' not in graph, skipping\n",
      "WARNING:root:start_term='his house' not in graph, skipping\n",
      "WARNING:root:start_term='his house' not in graph, skipping\n",
      "WARNING:root:start_term='his house' not in graph, skipping\n",
      "WARNING:root:start_term='his house' not in graph, skipping\n",
      "WARNING:root:start_term='his house' not in graph, skipping\n",
      "WARNING:root:start_term='his house' not in graph, skipping\n",
      "WARNING:root:start_term='his parents' not in graph, skipping\n",
      "WARNING:root:start_term='his parents' not in graph, skipping\n",
      "WARNING:root:start_term='his parents' not in graph, skipping\n",
      "WARNING:root:start_term='his parents' not in graph, skipping\n",
      "WARNING:root:start_term='his parents' not in graph, skipping\n",
      "WARNING:root:start_term='his parents' not in graph, skipping\n",
      "WARNING:root:start_term='his parents' not in graph, skipping\n",
      "WARNING:root:start_term=\"alex's parents\" not in graph, skipping\n",
      "WARNING:root:start_term=\"alex's parents\" not in graph, skipping\n",
      "WARNING:root:start_term=\"alex's parents\" not in graph, skipping\n",
      "WARNING:root:start_term=\"alex's parents\" not in graph, skipping\n",
      "WARNING:root:start_term=\"alex's parents\" not in graph, skipping\n",
      "WARNING:root:start_term=\"alex's parents\" not in graph, skipping\n",
      "WARNING:root:start_term=\"alex's parents\" not in graph, skipping\n",
      " 40%|████      | 4/10 [01:56<02:55, 29.32s/it]WARNING:root:start_term='skylar' not in graph, skipping\n",
      "WARNING:root:start_term='skylar' not in graph, skipping\n",
      "WARNING:root:start_term='skylar' not in graph, skipping\n",
      "WARNING:root:start_term='skylar' not in graph, skipping\n",
      "WARNING:root:start_term='skylar' not in graph, skipping\n",
      "WARNING:root:start_term='skylar' not in graph, skipping\n",
      "WARNING:root:start_term='skylar' not in graph, skipping\n",
      " 50%|█████     | 5/10 [02:22<02:20, 28.05s/it]WARNING:root:start_term='giant pile' not in graph, skipping\n",
      "WARNING:root:start_term='giant pile' not in graph, skipping\n",
      " 60%|██████    | 6/10 [02:30<01:24, 21.03s/it]WARNING:root:start_term='not lawrence' not in graph, skipping\n",
      "WARNING:root:start_term='not lawrence' not in graph, skipping\n",
      "WARNING:root:start_term='interested kevin' not in graph, skipping\n",
      "WARNING:root:start_term='interested kevin' not in graph, skipping\n",
      " 70%|███████   | 7/10 [02:54<01:06, 22.04s/it]WARNING:root:end_term='another credit card' not in graph, skipping\n",
      "WARNING:root:end_term='another credit card' not in graph, skipping\n",
      "WARNING:root:start_term='so much money' not in graph, skipping\n",
      "WARNING:root:start_term='so much money' not in graph, skipping\n",
      "WARNING:root:start_term='so much money' not in graph, skipping\n",
      "WARNING:root:start_term='so much money' not in graph, skipping\n",
      "WARNING:root:start_term='so much money' not in graph, skipping\n",
      "WARNING:root:start_term='so much money' not in graph, skipping\n",
      "WARNING:root:start_term='so much money' not in graph, skipping\n",
      "WARNING:root:start_term='so much money' not in graph, skipping\n",
      "WARNING:root:start_term='so much money' not in graph, skipping\n",
      "WARNING:root:end_term='another credit card' not in graph, skipping\n",
      "WARNING:root:end_term='another credit card' not in graph, skipping\n",
      "WARNING:root:start_term='$10,000 debt' not in graph, skipping\n",
      "WARNING:root:start_term='$10,000 debt' not in graph, skipping\n",
      "WARNING:root:start_term='$10,000 debt' not in graph, skipping\n",
      "WARNING:root:start_term='$10,000 debt' not in graph, skipping\n",
      "WARNING:root:start_term='$10,000 debt' not in graph, skipping\n",
      "WARNING:root:start_term='$10,000 debt' not in graph, skipping\n",
      "WARNING:root:start_term='$10,000 debt' not in graph, skipping\n",
      "WARNING:root:start_term='$10,000 debt' not in graph, skipping\n",
      "WARNING:root:start_term='$10,000 debt' not in graph, skipping\n",
      "WARNING:root:start_term='$' not in graph, skipping\n",
      "WARNING:root:start_term='$' not in graph, skipping\n",
      "WARNING:root:start_term='$' not in graph, skipping\n",
      "WARNING:root:start_term='$' not in graph, skipping\n",
      "WARNING:root:start_term='$' not in graph, skipping\n",
      "WARNING:root:start_term='$' not in graph, skipping\n",
      "WARNING:root:start_term='$' not in graph, skipping\n",
      "WARNING:root:start_term='$' not in graph, skipping\n",
      "WARNING:root:start_term='$' not in graph, skipping\n",
      "WARNING:root:end_term='another credit card' not in graph, skipping\n",
      "WARNING:root:start_term='next sentence' not in graph, skipping\n",
      "WARNING:root:start_term='next sentence' not in graph, skipping\n",
      "WARNING:root:start_term='next sentence' not in graph, skipping\n",
      "WARNING:root:start_term='next sentence' not in graph, skipping\n",
      "WARNING:root:start_term='next sentence' not in graph, skipping\n",
      "WARNING:root:start_term='next sentence' not in graph, skipping\n",
      "WARNING:root:start_term='next sentence' not in graph, skipping\n",
      "WARNING:root:start_term='next sentence' not in graph, skipping\n",
      "WARNING:root:start_term='next sentence' not in graph, skipping\n",
      "WARNING:root:end_term='another credit card' not in graph, skipping\n",
      "WARNING:root:start_term='his first credit card' not in graph, skipping\n",
      "WARNING:root:start_term='his first credit card' not in graph, skipping\n",
      "WARNING:root:start_term='his first credit card' not in graph, skipping\n",
      "WARNING:root:start_term='his first credit card' not in graph, skipping\n",
      "WARNING:root:start_term='his first credit card' not in graph, skipping\n",
      "WARNING:root:start_term='his first credit card' not in graph, skipping\n",
      "WARNING:root:start_term='his first credit card' not in graph, skipping\n",
      "WARNING:root:start_term='his first credit card' not in graph, skipping\n",
      "WARNING:root:start_term='his first credit card' not in graph, skipping\n",
      "WARNING:root:end_term='another credit card' not in graph, skipping\n",
      "WARNING:root:end_term='another credit card' not in graph, skipping\n",
      "WARNING:root:end_term='another credit card' not in graph, skipping\n",
      "WARNING:root:end_term='another credit card' not in graph, skipping\n",
      "WARNING:root:end_term='another credit card' not in graph, skipping\n",
      "WARNING:root:end_term='another credit card' not in graph, skipping\n",
      "WARNING:root:end_term='another credit card' not in graph, skipping\n",
      "WARNING:root:start_term='his card' not in graph, skipping\n",
      "WARNING:root:start_term='his card' not in graph, skipping\n",
      "WARNING:root:start_term='his card' not in graph, skipping\n",
      "WARNING:root:start_term='his card' not in graph, skipping\n",
      "WARNING:root:start_term='his card' not in graph, skipping\n",
      "WARNING:root:start_term='his card' not in graph, skipping\n",
      "WARNING:root:start_term='his card' not in graph, skipping\n",
      "WARNING:root:start_term='his card' not in graph, skipping\n",
      "WARNING:root:start_term='his card' not in graph, skipping\n",
      "WARNING:root:end_term='another credit card' not in graph, skipping\n",
      "WARNING:root:end_term='another credit card' not in graph, skipping\n",
      "WARNING:root:end_term='another credit card' not in graph, skipping\n",
      "WARNING:root:end_term='another credit card' not in graph, skipping\n",
      " 80%|████████  | 8/10 [04:11<01:19, 39.62s/it]WARNING:root:end_term='45-acre horse farm' not in graph, skipping\n",
      "WARNING:root:end_term='-' not in graph, skipping\n",
      "WARNING:root:end_term='45-acre horse farm' not in graph, skipping\n",
      "WARNING:root:end_term='-' not in graph, skipping\n",
      "WARNING:root:start_term='l.' not in graph, skipping\n",
      "WARNING:root:start_term='l.' not in graph, skipping\n",
      "WARNING:root:start_term='l.' not in graph, skipping\n",
      "WARNING:root:start_term='l.' not in graph, skipping\n",
      "WARNING:root:start_term='l.' not in graph, skipping\n",
      "WARNING:root:start_term='l.' not in graph, skipping\n",
      "WARNING:root:start_term='l.' not in graph, skipping\n",
      "WARNING:root:start_term='l.' not in graph, skipping\n",
      "WARNING:root:start_term='l.' not in graph, skipping\n",
      "WARNING:root:start_term='l.' not in graph, skipping\n",
      "WARNING:root:start_term='l.' not in graph, skipping\n",
      "WARNING:root:start_term='l.' not in graph, skipping\n",
      "WARNING:root:start_term='l.' not in graph, skipping\n",
      "WARNING:root:start_term='l.' not in graph, skipping\n",
      "WARNING:root:start_term='l.' not in graph, skipping\n",
      "WARNING:root:end_term='45-acre horse farm' not in graph, skipping\n",
      "WARNING:root:end_term='-' not in graph, skipping\n",
      "WARNING:root:start_term='st.' not in graph, skipping\n",
      "WARNING:root:start_term='st.' not in graph, skipping\n",
      "WARNING:root:start_term='st.' not in graph, skipping\n",
      "WARNING:root:start_term='st.' not in graph, skipping\n",
      "WARNING:root:start_term='st.' not in graph, skipping\n",
      "WARNING:root:start_term='st.' not in graph, skipping\n",
      "WARNING:root:start_term='st.' not in graph, skipping\n",
      "WARNING:root:start_term='st.' not in graph, skipping\n",
      "WARNING:root:start_term='st.' not in graph, skipping\n",
      "WARNING:root:start_term='st.' not in graph, skipping\n",
      "WARNING:root:start_term='st.' not in graph, skipping\n",
      "WARNING:root:start_term='st.' not in graph, skipping\n",
      "WARNING:root:start_term='st.' not in graph, skipping\n",
      "WARNING:root:start_term='st.' not in graph, skipping\n",
      "WARNING:root:start_term='st.' not in graph, skipping\n",
      "WARNING:root:end_term='45-acre horse farm' not in graph, skipping\n",
      "WARNING:root:end_term='-' not in graph, skipping\n",
      "WARNING:root:end_term='45-acre horse farm' not in graph, skipping\n",
      "WARNING:root:end_term='-' not in graph, skipping\n",
      "WARNING:root:end_term='45-acre horse farm' not in graph, skipping\n",
      "WARNING:root:end_term='-' not in graph, skipping\n",
      "WARNING:root:end_term='45-acre horse farm' not in graph, skipping\n",
      "WARNING:root:end_term='-' not in graph, skipping\n",
      "WARNING:root:end_term='45-acre horse farm' not in graph, skipping\n",
      "WARNING:root:end_term='-' not in graph, skipping\n",
      "WARNING:root:start_term='l. mark bailey' not in graph, skipping\n",
      "WARNING:root:start_term='l. mark bailey' not in graph, skipping\n",
      "WARNING:root:start_term='l. mark bailey' not in graph, skipping\n",
      "WARNING:root:start_term='l. mark bailey' not in graph, skipping\n",
      "WARNING:root:start_term='l. mark bailey' not in graph, skipping\n",
      "WARNING:root:start_term='l. mark bailey' not in graph, skipping\n",
      "WARNING:root:start_term='l. mark bailey' not in graph, skipping\n",
      "WARNING:root:start_term='l. mark bailey' not in graph, skipping\n",
      "WARNING:root:start_term='l. mark bailey' not in graph, skipping\n",
      "WARNING:root:start_term='l. mark bailey' not in graph, skipping\n",
      "WARNING:root:start_term='l. mark bailey' not in graph, skipping\n",
      "WARNING:root:start_term='l. mark bailey' not in graph, skipping\n",
      "WARNING:root:start_term='l. mark bailey' not in graph, skipping\n",
      "WARNING:root:start_term='l. mark bailey' not in graph, skipping\n",
      "WARNING:root:start_term='l. mark bailey' not in graph, skipping\n",
      "WARNING:root:start_term='st. paul' not in graph, skipping\n",
      "WARNING:root:start_term='st. paul' not in graph, skipping\n",
      "WARNING:root:start_term='st. paul' not in graph, skipping\n",
      "WARNING:root:start_term='st. paul' not in graph, skipping\n",
      "WARNING:root:start_term='st. paul' not in graph, skipping\n",
      "WARNING:root:start_term='st. paul' not in graph, skipping\n",
      "WARNING:root:start_term='st. paul' not in graph, skipping\n",
      "WARNING:root:start_term='st. paul' not in graph, skipping\n",
      "WARNING:root:start_term='st. paul' not in graph, skipping\n",
      "WARNING:root:start_term='st. paul' not in graph, skipping\n",
      "WARNING:root:start_term='st. paul' not in graph, skipping\n",
      "WARNING:root:start_term='st. paul' not in graph, skipping\n",
      "WARNING:root:start_term='st. paul' not in graph, skipping\n",
      "WARNING:root:start_term='st. paul' not in graph, skipping\n",
      "WARNING:root:start_term='st. paul' not in graph, skipping\n",
      "WARNING:root:end_term='45-acre horse farm' not in graph, skipping\n",
      "WARNING:root:end_term='-' not in graph, skipping\n",
      "WARNING:root:end_term='45-acre horse farm' not in graph, skipping\n",
      "WARNING:root:end_term='-' not in graph, skipping\n",
      "100%|██████████| 10/10 [07:08<00:00, 42.82s/it]\n"
     ]
    }
   ],
   "source": [
    "results = []\n",
    "\n",
    "for example_idx, example in enumerate(tqdm(examples), start=1):\n",
    "    question_context, choices = extract_terms_from_example(example)\n",
    "\n",
    "    for tq in question_context:\n",
    "        for tc in choices:\n",
    "            p = find_word_path(tq, tc, conceptnet)\n",
    "\n",
    "            results.append(\n",
    "                {\n",
    "                    \"example\": example_idx,\n",
    "                    \"question_context\": tq,\n",
    "                    \"choices\": tc,\n",
    "                    \"path\": p,\n",
    "                }\n",
    "            )\n"
   ]
  },
  {
   "cell_type": "code",
   "execution_count": 55,
   "metadata": {},
   "outputs": [],
   "source": [
    "path_df = pd.DataFrame(results)"
   ]
  },
  {
   "cell_type": "code",
   "execution_count": 56,
   "metadata": {},
   "outputs": [
    {
     "data": {
      "text/html": [
       "<div>\n",
       "<style scoped>\n",
       "    .dataframe tbody tr th:only-of-type {\n",
       "        vertical-align: middle;\n",
       "    }\n",
       "\n",
       "    .dataframe tbody tr th {\n",
       "        vertical-align: top;\n",
       "    }\n",
       "\n",
       "    .dataframe thead th {\n",
       "        text-align: right;\n",
       "    }\n",
       "</style>\n",
       "<table border=\"1\" class=\"dataframe\">\n",
       "  <thead>\n",
       "    <tr style=\"text-align: right;\">\n",
       "      <th></th>\n",
       "      <th>example</th>\n",
       "      <th>question_context</th>\n",
       "      <th>choices</th>\n",
       "      <th>path</th>\n",
       "    </tr>\n",
       "  </thead>\n",
       "  <tbody>\n",
       "    <tr>\n",
       "      <th>0</th>\n",
       "      <td>1</td>\n",
       "      <td>drawstring</td>\n",
       "      <td>military</td>\n",
       "      <td>drawstring --PartOf--&gt; drawstring bag --AtLoca...</td>\n",
       "    </tr>\n",
       "    <tr>\n",
       "      <th>1</th>\n",
       "      <td>1</td>\n",
       "      <td>drawstring</td>\n",
       "      <td>jewelry</td>\n",
       "      <td>[]</td>\n",
       "    </tr>\n",
       "    <tr>\n",
       "      <th>2</th>\n",
       "      <td>1</td>\n",
       "      <td>drawstring</td>\n",
       "      <td>jewelry store</td>\n",
       "      <td>drawstring --PartOf--&gt; drawstring bag --AtLoca...</td>\n",
       "    </tr>\n",
       "    <tr>\n",
       "      <th>3</th>\n",
       "      <td>1</td>\n",
       "      <td>drawstring</td>\n",
       "      <td>safe</td>\n",
       "      <td>drawstring --PartOf--&gt; drawstring bag --AtLoca...</td>\n",
       "    </tr>\n",
       "    <tr>\n",
       "      <th>4</th>\n",
       "      <td>1</td>\n",
       "      <td>drawstring</td>\n",
       "      <td>store</td>\n",
       "      <td>drawstring --PartOf--&gt; drawstring bag --AtLoca...</td>\n",
       "    </tr>\n",
       "    <tr>\n",
       "      <th>...</th>\n",
       "      <td>...</td>\n",
       "      <td>...</td>\n",
       "      <td>...</td>\n",
       "      <td>...</td>\n",
       "    </tr>\n",
       "    <tr>\n",
       "      <th>804</th>\n",
       "      <td>10</td>\n",
       "      <td>water</td>\n",
       "      <td>lift</td>\n",
       "      <td>water --HasContext--&gt; dialectal &lt;--HasContext-...</td>\n",
       "    </tr>\n",
       "    <tr>\n",
       "      <th>805</th>\n",
       "      <td>10</td>\n",
       "      <td>water</td>\n",
       "      <td>bottle</td>\n",
       "      <td>water --AtLocation--&gt; bottle</td>\n",
       "    </tr>\n",
       "    <tr>\n",
       "      <th>806</th>\n",
       "      <td>10</td>\n",
       "      <td>water</td>\n",
       "      <td>suction</td>\n",
       "      <td>[]</td>\n",
       "    </tr>\n",
       "    <tr>\n",
       "      <th>807</th>\n",
       "      <td>10</td>\n",
       "      <td>water</td>\n",
       "      <td>press</td>\n",
       "      <td>water &lt;--RelatedTo-- cast &lt;--MannerOf-- press</td>\n",
       "    </tr>\n",
       "    <tr>\n",
       "      <th>808</th>\n",
       "      <td>10</td>\n",
       "      <td>water</td>\n",
       "      <td>water</td>\n",
       "      <td>water</td>\n",
       "    </tr>\n",
       "  </tbody>\n",
       "</table>\n",
       "<p>809 rows × 4 columns</p>\n",
       "</div>"
      ],
      "text/plain": [
       "     example question_context        choices  \\\n",
       "0          1       drawstring       military   \n",
       "1          1       drawstring        jewelry   \n",
       "2          1       drawstring  jewelry store   \n",
       "3          1       drawstring           safe   \n",
       "4          1       drawstring          store   \n",
       "..       ...              ...            ...   \n",
       "804       10            water           lift   \n",
       "805       10            water         bottle   \n",
       "806       10            water        suction   \n",
       "807       10            water          press   \n",
       "808       10            water          water   \n",
       "\n",
       "                                                  path  \n",
       "0    drawstring --PartOf--> drawstring bag --AtLoca...  \n",
       "1                                                   []  \n",
       "2    drawstring --PartOf--> drawstring bag --AtLoca...  \n",
       "3    drawstring --PartOf--> drawstring bag --AtLoca...  \n",
       "4    drawstring --PartOf--> drawstring bag --AtLoca...  \n",
       "..                                                 ...  \n",
       "804  water --HasContext--> dialectal <--HasContext-...  \n",
       "805                       water --AtLocation--> bottle  \n",
       "806                                                 []  \n",
       "807      water <--RelatedTo-- cast <--MannerOf-- press  \n",
       "808                                              water  \n",
       "\n",
       "[809 rows x 4 columns]"
      ]
     },
     "execution_count": 56,
     "metadata": {},
     "output_type": "execute_result"
    }
   ],
   "source": [
    "path_df"
   ]
  },
  {
   "cell_type": "code",
   "execution_count": 57,
   "metadata": {},
   "outputs": [],
   "source": [
    "path_df.index.name = \"index\"\n",
    "path_df.to_csv(\"../data/processed/paths_for_examples_after_article_fix.csv\")"
   ]
  },
  {
   "cell_type": "code",
   "execution_count": 44,
   "metadata": {},
   "outputs": [],
   "source": [
    "import itertools"
   ]
  },
  {
   "cell_type": "code",
   "execution_count": 50,
   "metadata": {},
   "outputs": [],
   "source": [
    "oov_list = []\n",
    "\n",
    "for example_idx, example in enumerate(examples, start=1):\n",
    "    question_context, choices = extract_terms_from_example(example)\n",
    "\n",
    "    oov = [t for t in itertools.chain(question_context, choices) if normalize_input(t) not in conceptnet.nodes_name2idx]\n",
    "\n",
    "    oov_list.append({\"example\": example_idx, \"out_of_vocab\": \",\".join(oov)})\n",
    "\n",
    "\n"
   ]
  },
  {
   "cell_type": "code",
   "execution_count": 51,
   "metadata": {},
   "outputs": [],
   "source": [
    "oov_df = pd.DataFrame(oov_list)"
   ]
  },
  {
   "cell_type": "code",
   "execution_count": 53,
   "metadata": {},
   "outputs": [],
   "source": [
    "oov_df.to_csv(\"../data/processed/oov_after_article_fix.csv\")"
   ]
  },
  {
   "cell_type": "code",
   "execution_count": 52,
   "metadata": {},
   "outputs": [
    {
     "data": {
      "text/html": [
       "<div>\n",
       "<style scoped>\n",
       "    .dataframe tbody tr th:only-of-type {\n",
       "        vertical-align: middle;\n",
       "    }\n",
       "\n",
       "    .dataframe tbody tr th {\n",
       "        vertical-align: top;\n",
       "    }\n",
       "\n",
       "    .dataframe thead th {\n",
       "        text-align: right;\n",
       "    }\n",
       "</style>\n",
       "<table border=\"1\" class=\"dataframe\">\n",
       "  <thead>\n",
       "    <tr style=\"text-align: right;\">\n",
       "      <th></th>\n",
       "      <th>example</th>\n",
       "      <th>out_of_vocab</th>\n",
       "    </tr>\n",
       "  </thead>\n",
       "  <tbody>\n",
       "    <tr>\n",
       "      <th>0</th>\n",
       "      <td>1</td>\n",
       "      <td>only baggage</td>\n",
       "    </tr>\n",
       "    <tr>\n",
       "      <th>1</th>\n",
       "      <td>2</td>\n",
       "      <td></td>\n",
       "    </tr>\n",
       "    <tr>\n",
       "      <th>2</th>\n",
       "      <td>3</td>\n",
       "      <td>his enemy,his enemy</td>\n",
       "    </tr>\n",
       "    <tr>\n",
       "      <th>3</th>\n",
       "      <td>4</td>\n",
       "      <td>his house,his parents,alex's parents</td>\n",
       "    </tr>\n",
       "    <tr>\n",
       "      <th>4</th>\n",
       "      <td>5</td>\n",
       "      <td>skylar</td>\n",
       "    </tr>\n",
       "    <tr>\n",
       "      <th>5</th>\n",
       "      <td>6</td>\n",
       "      <td>giant pile</td>\n",
       "    </tr>\n",
       "    <tr>\n",
       "      <th>6</th>\n",
       "      <td>7</td>\n",
       "      <td>not lawrence,interested kevin</td>\n",
       "    </tr>\n",
       "    <tr>\n",
       "      <th>7</th>\n",
       "      <td>8</td>\n",
       "      <td>so much money,$10,000 debt,$,next sentence,his...</td>\n",
       "    </tr>\n",
       "    <tr>\n",
       "      <th>8</th>\n",
       "      <td>9</td>\n",
       "      <td>l.,st.,l. mark bailey,st. paul,45-acre horse f...</td>\n",
       "    </tr>\n",
       "    <tr>\n",
       "      <th>9</th>\n",
       "      <td>10</td>\n",
       "      <td></td>\n",
       "    </tr>\n",
       "  </tbody>\n",
       "</table>\n",
       "</div>"
      ],
      "text/plain": [
       "   example                                       out_of_vocab\n",
       "0        1                                       only baggage\n",
       "1        2                                                   \n",
       "2        3                                his enemy,his enemy\n",
       "3        4               his house,his parents,alex's parents\n",
       "4        5                                             skylar\n",
       "5        6                                         giant pile\n",
       "6        7                      not lawrence,interested kevin\n",
       "7        8  so much money,$10,000 debt,$,next sentence,his...\n",
       "8        9  l.,st.,l. mark bailey,st. paul,45-acre horse f...\n",
       "9       10                                                   "
      ]
     },
     "execution_count": 52,
     "metadata": {},
     "output_type": "execute_result"
    }
   ],
   "source": [
    "oov_df # old version before fix"
   ]
  },
  {
   "cell_type": "markdown",
   "metadata": {},
   "source": [
    "## Problems/Challanges solved\n",
    "\n",
    "- tuning optimal path length -> 3\n",
    "- removing a/the from noun phrases\n",
    "- only use the occurence without /n etc suffix\n",
    "- deal with multiple edges"
   ]
  },
  {
   "cell_type": "markdown",
   "metadata": {},
   "source": []
  }
 ],
 "metadata": {
  "interpreter": {
   "hash": "591688fbcbea40ff8c02f2afe3b71c6c5dc57996febca89055592de027a69040"
  },
  "kernelspec": {
   "display_name": "Python 3.9.9 64-bit ('nlp-commonsense': conda)",
   "language": "python",
   "name": "python3"
  },
  "language_info": {
   "codemirror_mode": {
    "name": "ipython",
    "version": 3
   },
   "file_extension": ".py",
   "mimetype": "text/x-python",
   "name": "python",
   "nbconvert_exporter": "python",
   "pygments_lexer": "ipython3",
   "version": "3.9.9"
  },
  "orig_nbformat": 4
 },
 "nbformat": 4,
 "nbformat_minor": 2
}
