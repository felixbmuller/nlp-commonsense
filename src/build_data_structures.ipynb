{
 "cells": [
  {
   "cell_type": "code",
   "execution_count": 26,
   "metadata": {},
   "outputs": [],
   "source": [
    "import gzip\n",
    "from typing import Union\n",
    "\n",
    "import pandas as pd\n",
    "import numpy as np\n",
    "from tqdm import tqdm\n",
    "import joblib\n",
    "import json\n"
   ]
  },
  {
   "cell_type": "code",
   "execution_count": 27,
   "metadata": {},
   "outputs": [],
   "source": [
    "def load_examples() -> list[dict[str, Union[str, list[str]]]]:\n",
    "    \"\"\"Quick and dirty parser to turn examples.txt into a machine-readable form.\n",
    "\n",
    "    Returns\n",
    "    -------\n",
    "    list[dict[str, Union[str, list[str]]]]\n",
    "        list of examples. Each examples is of the form \n",
    "            {\n",
    "                \"question\": QUESTION, \n",
    "                \"context\": CONTEXT or \"\", \n",
    "                \"choices\": [CHOICE1, CHOICE2, ...]\n",
    "            }\n",
    "    \"\"\"\n",
    "\n",
    "    with open(\"../data/raw/examples.txt\") as fp:\n",
    "        data = fp.read()\n",
    "\n",
    "    examples = data.split(\"#\")[1:]\n",
    "\n",
    "    parsed = []\n",
    "\n",
    "    for e in examples:\n",
    "        parts = e.split(\"\\n\")\n",
    "\n",
    "        question = next((p.removeprefix(\"Question:\").strip() for p in parts if p.startswith(\"Question: \")), \"\")\n",
    "        context = next((p.removeprefix(\"Context:\").strip() for p in parts if p.startswith(\"Context: \")), \"\")\n",
    "        choices = [p.split(\")\")[1].strip() for p in parts if p.startswith(\"(\")]\n",
    "\n",
    "        parsed.append({\"question\": question, \"context\": context, \"choices\": choices})\n",
    "\n",
    "    return parsed\n",
    "    "
   ]
  },
  {
   "cell_type": "code",
   "execution_count": 30,
   "metadata": {},
   "outputs": [],
   "source": [
    "examples = load_examples()"
   ]
  },
  {
   "cell_type": "code",
   "execution_count": 31,
   "metadata": {},
   "outputs": [],
   "source": [
    "import spacy"
   ]
  },
  {
   "cell_type": "code",
   "execution_count": 59,
   "metadata": {},
   "outputs": [],
   "source": [
    "nlp = spacy.load('en_core_web_sm')\n",
    "stopwords = set(nlp.Defaults.stop_words).union({\",\", \".\", \"?\", \":\", \";\"})"
   ]
  },
  {
   "cell_type": "code",
   "execution_count": 57,
   "metadata": {},
   "outputs": [
    {
     "data": {
      "text/plain": [
       "set"
      ]
     },
     "execution_count": 57,
     "metadata": {},
     "output_type": "execute_result"
    }
   ],
   "source": [
    "type(stopwords)"
   ]
  },
  {
   "cell_type": "code",
   "execution_count": 37,
   "metadata": {},
   "outputs": [
    {
     "name": "stderr",
     "output_type": "stream",
     "text": [
      "[nltk_data] Downloading package wordnet to /home/felix/nltk_data...\n",
      "[nltk_data]   Package wordnet is already up-to-date!\n",
      "[nltk_data] Downloading package omw-1.4 to /home/felix/nltk_data...\n",
      "[nltk_data]   Package omw-1.4 is already up-to-date!\n"
     ]
    }
   ],
   "source": [
    "import utils as U"
   ]
  },
  {
   "cell_type": "code",
   "execution_count": 62,
   "metadata": {},
   "outputs": [],
   "source": [
    "def extract_terms(input: str) -> set[str]:\n",
    "    doc = nlp(input)\n",
    "\n",
    "    tokens = [*doc, *doc.noun_chunks]\n",
    "\n",
    "    token_texts = set(s for t in tokens if (s := U.normalize_input(t.text)) not in stopwords)\n",
    "\n",
    "    return token_texts"
   ]
  },
  {
   "cell_type": "code",
   "execution_count": 63,
   "metadata": {},
   "outputs": [],
   "source": [
    "import itertools"
   ]
  },
  {
   "cell_type": "code",
   "execution_count": 64,
   "metadata": {},
   "outputs": [],
   "source": [
    "def extract_terms_from_example(example: dict) -> tuple[list[str], list[str]]:\n",
    "    \n",
    "    question_context = set(itertools.chain(extract_terms(example[\"question\"]), extract_terms(example[\"context\"])))\n",
    "    \n",
    "    choices = set(itertools.chain.from_iterable(extract_terms(c) for c in example[\"choices\"]))\n",
    "\n",
    "    return question_context, choices"
   ]
  },
  {
   "cell_type": "code",
   "execution_count": 65,
   "metadata": {},
   "outputs": [
    {
     "data": {
      "text/plain": [
       "({'a drawstring bag',\n",
       "  'bag',\n",
       "  'baggage',\n",
       "  'checked',\n",
       "  'drawstring',\n",
       "  'heading',\n",
       "  'the only baggage',\n",
       "  'the woman',\n",
       "  'wa',\n",
       "  'woman'},\n",
       " {'airport',\n",
       "  'garbage',\n",
       "  'jewelry',\n",
       "  'jewelry store',\n",
       "  'military',\n",
       "  'safe',\n",
       "  'store'})"
      ]
     },
     "execution_count": 65,
     "metadata": {},
     "output_type": "execute_result"
    }
   ],
   "source": [
    "extract_terms_from_example(examples[0])"
   ]
  },
  {
   "cell_type": "code",
   "execution_count": 47,
   "metadata": {},
   "outputs": [
    {
     "data": {
      "text/plain": [
       "['baggage',\n",
       " 'woman',\n",
       " 'checked',\n",
       " 'wa',\n",
       " 'drawstring',\n",
       " 'bag',\n",
       " ',',\n",
       " 'wa',\n",
       " 'heading',\n",
       " '?',\n",
       " 'the only baggage',\n",
       " 'the woman',\n",
       " 'a drawstring bag']"
      ]
     },
     "execution_count": 47,
     "metadata": {},
     "output_type": "execute_result"
    }
   ],
   "source": [
    "extract_terms(\"The only baggage the woman checked was a drawstring bag, where was she heading with it?\")"
   ]
  },
  {
   "cell_type": "code",
   "execution_count": 41,
   "metadata": {},
   "outputs": [
    {
     "data": {
      "text/plain": [
       "{'question': 'The only baggage the woman checked was a drawstring bag, where was she heading with it?',\n",
       " 'context': '',\n",
       " 'choices': ['garbage can', 'military', 'jewelry store', 'safe', 'airport']}"
      ]
     },
     "execution_count": 41,
     "metadata": {},
     "output_type": "execute_result"
    }
   ],
   "source": [
    "examples[0]"
   ]
  }
 ],
 "metadata": {
  "interpreter": {
   "hash": "591688fbcbea40ff8c02f2afe3b71c6c5dc57996febca89055592de027a69040"
  },
  "kernelspec": {
   "display_name": "Python 3.9.9 64-bit ('nlp-commonsense': conda)",
   "language": "python",
   "name": "python3"
  },
  "language_info": {
   "codemirror_mode": {
    "name": "ipython",
    "version": 3
   },
   "file_extension": ".py",
   "mimetype": "text/x-python",
   "name": "python",
   "nbconvert_exporter": "python",
   "pygments_lexer": "ipython3",
   "version": "3.9.9"
  },
  "orig_nbformat": 4
 },
 "nbformat": 4,
 "nbformat_minor": 2
}
